{
 "cells": [
  {
   "cell_type": "code",
   "execution_count": 1,
   "id": "2935d8f0-7b89-40b1-81e4-d480e4e4135e",
   "metadata": {},
   "outputs": [
    {
     "name": "stdout",
     "output_type": "stream",
     "text": [
      "Requirement already satisfied: eli5 in c:\\users\\tvino\\downloads\\anaconda\\lib\\site-packages (0.16.0)\n",
      "Requirement already satisfied: attrs>17.1.0 in c:\\users\\tvino\\downloads\\anaconda\\lib\\site-packages (from eli5) (23.1.0)\n",
      "Requirement already satisfied: jinja2>=3.0.0 in c:\\users\\tvino\\downloads\\anaconda\\lib\\site-packages (from eli5) (3.1.4)\n",
      "Requirement already satisfied: numpy>=1.9.0 in c:\\users\\tvino\\downloads\\anaconda\\lib\\site-packages (from eli5) (1.26.4)\n",
      "Requirement already satisfied: scipy in c:\\users\\tvino\\downloads\\anaconda\\lib\\site-packages (from eli5) (1.13.1)\n",
      "Requirement already satisfied: scikit-learn>=1.6.0 in c:\\users\\tvino\\downloads\\anaconda\\lib\\site-packages (from eli5) (1.6.1)\n",
      "Requirement already satisfied: graphviz in c:\\users\\tvino\\downloads\\anaconda\\lib\\site-packages (from eli5) (0.20.3)\n",
      "Requirement already satisfied: tabulate>=0.7.7 in c:\\users\\tvino\\downloads\\anaconda\\lib\\site-packages (from eli5) (0.9.0)\n",
      "Requirement already satisfied: MarkupSafe>=2.0 in c:\\users\\tvino\\downloads\\anaconda\\lib\\site-packages (from jinja2>=3.0.0->eli5) (2.1.3)\n",
      "Requirement already satisfied: joblib>=1.2.0 in c:\\users\\tvino\\downloads\\anaconda\\lib\\site-packages (from scikit-learn>=1.6.0->eli5) (1.4.2)\n",
      "Requirement already satisfied: threadpoolctl>=3.1.0 in c:\\users\\tvino\\downloads\\anaconda\\lib\\site-packages (from scikit-learn>=1.6.0->eli5) (3.5.0)\n"
     ]
    }
   ],
   "source": [
    "!pip install eli5\n"
   ]
  },
  {
   "cell_type": "code",
   "execution_count": 2,
   "id": "8f1a2c2b-d15b-4db9-b0df-eda44174e913",
   "metadata": {},
   "outputs": [],
   "source": [
    "import eli5\n",
    "from IPython.display import display\n"
   ]
  },
  {
   "cell_type": "code",
   "execution_count": 3,
   "id": "679a619a-b430-48d7-9d46-630cd47b5121",
   "metadata": {},
   "outputs": [
    {
     "name": "stdout",
     "output_type": "stream",
     "text": [
      "Requirement already satisfied: scikit-learn in c:\\users\\tvino\\downloads\\anaconda\\lib\\site-packages (1.6.1)\n",
      "Requirement already satisfied: numpy>=1.19.5 in c:\\users\\tvino\\downloads\\anaconda\\lib\\site-packages (from scikit-learn) (1.26.4)\n",
      "Requirement already satisfied: scipy>=1.6.0 in c:\\users\\tvino\\downloads\\anaconda\\lib\\site-packages (from scikit-learn) (1.13.1)\n",
      "Requirement already satisfied: joblib>=1.2.0 in c:\\users\\tvino\\downloads\\anaconda\\lib\\site-packages (from scikit-learn) (1.4.2)\n",
      "Requirement already satisfied: threadpoolctl>=3.1.0 in c:\\users\\tvino\\downloads\\anaconda\\lib\\site-packages (from scikit-learn) (3.5.0)\n"
     ]
    }
   ],
   "source": [
    "!pip install scikit-learn\n"
   ]
  },
  {
   "cell_type": "code",
   "execution_count": 8,
   "id": "12739fbb-3a85-4538-ab4f-ad535adb797d",
   "metadata": {},
   "outputs": [
    {
     "data": {
      "text/html": [
       "<div>\n",
       "<style scoped>\n",
       "    .dataframe tbody tr th:only-of-type {\n",
       "        vertical-align: middle;\n",
       "    }\n",
       "\n",
       "    .dataframe tbody tr th {\n",
       "        vertical-align: top;\n",
       "    }\n",
       "\n",
       "    .dataframe thead th {\n",
       "        text-align: right;\n",
       "    }\n",
       "</style>\n",
       "<table border=\"1\" class=\"dataframe\">\n",
       "  <thead>\n",
       "    <tr style=\"text-align: right;\">\n",
       "      <th></th>\n",
       "      <th>customer_id</th>\n",
       "      <th>tenure_months</th>\n",
       "      <th>call_duration_avg</th>\n",
       "      <th>complaints</th>\n",
       "      <th>recharge_freq</th>\n",
       "      <th>churn</th>\n",
       "    </tr>\n",
       "  </thead>\n",
       "  <tbody>\n",
       "    <tr>\n",
       "      <th>0</th>\n",
       "      <td>2001</td>\n",
       "      <td>8</td>\n",
       "      <td>147</td>\n",
       "      <td>1</td>\n",
       "      <td>9</td>\n",
       "      <td>1</td>\n",
       "    </tr>\n",
       "    <tr>\n",
       "      <th>1</th>\n",
       "      <td>2002</td>\n",
       "      <td>2</td>\n",
       "      <td>98</td>\n",
       "      <td>6</td>\n",
       "      <td>8</td>\n",
       "      <td>0</td>\n",
       "    </tr>\n",
       "    <tr>\n",
       "      <th>2</th>\n",
       "      <td>2003</td>\n",
       "      <td>18</td>\n",
       "      <td>99</td>\n",
       "      <td>1</td>\n",
       "      <td>1</td>\n",
       "      <td>0</td>\n",
       "    </tr>\n",
       "    <tr>\n",
       "      <th>3</th>\n",
       "      <td>2004</td>\n",
       "      <td>16</td>\n",
       "      <td>387</td>\n",
       "      <td>6</td>\n",
       "      <td>9</td>\n",
       "      <td>0</td>\n",
       "    </tr>\n",
       "    <tr>\n",
       "      <th>4</th>\n",
       "      <td>2005</td>\n",
       "      <td>15</td>\n",
       "      <td>270</td>\n",
       "      <td>6</td>\n",
       "      <td>4</td>\n",
       "      <td>0</td>\n",
       "    </tr>\n",
       "  </tbody>\n",
       "</table>\n",
       "</div>"
      ],
      "text/plain": [
       "   customer_id  tenure_months  call_duration_avg  complaints  recharge_freq  \\\n",
       "0         2001              8                147           1              9   \n",
       "1         2002              2                 98           6              8   \n",
       "2         2003             18                 99           1              1   \n",
       "3         2004             16                387           6              9   \n",
       "4         2005             15                270           6              4   \n",
       "\n",
       "   churn  \n",
       "0      1  \n",
       "1      0  \n",
       "2      0  \n",
       "3      0  \n",
       "4      0  "
      ]
     },
     "execution_count": 8,
     "metadata": {},
     "output_type": "execute_result"
    }
   ],
   "source": [
    "import pandas as pd\n",
    "import numpy as np\n",
    "from sklearn.model_selection import train_test_split\n",
    "from sklearn.ensemble import RandomForestClassifier\n",
    "from sklearn.metrics import classification_report, confusion_matrix\n",
    "import eli5\n",
    "from eli5.sklearn import PermutationImportance\n",
    "import seaborn as sns\n",
    "import matplotlib.pyplot as plt\n",
    "\n",
    "df = pd.read_csv(\"telecom_churn_data_200.csv\")\n",
    "df.head()\n"
   ]
  },
  {
   "cell_type": "code",
   "execution_count": 10,
   "id": "35d07897-2542-417a-96fa-49df208116f9",
   "metadata": {},
   "outputs": [],
   "source": [
    "X = df[['tenure_months', 'call_duration_avg', 'complaints', 'recharge_freq']]\n",
    "y = df['churn']\n",
    "\n",
    "X_train, X_test, y_train, y_test = train_test_split(X, y, test_size=0.2, random_state=42)\n"
   ]
  },
  {
   "cell_type": "code",
   "execution_count": 12,
   "id": "35b48822-6f7f-4306-9783-04ad2780a68b",
   "metadata": {},
   "outputs": [
    {
     "name": "stdout",
     "output_type": "stream",
     "text": [
      "Confusion Matrix:\n",
      " [[ 6 10]\n",
      " [15  9]]\n",
      "\n",
      "Classification Report:\n",
      "               precision    recall  f1-score   support\n",
      "\n",
      "           0       0.29      0.38      0.32        16\n",
      "           1       0.47      0.38      0.42        24\n",
      "\n",
      "    accuracy                           0.38        40\n",
      "   macro avg       0.38      0.38      0.37        40\n",
      "weighted avg       0.40      0.38      0.38        40\n",
      "\n"
     ]
    }
   ],
   "source": [
    "\n",
    "clf = RandomForestClassifier(n_estimators=100, random_state=42)\n",
    "clf.fit(X_train, y_train)\n",
    "\n",
    "y_pred = clf.predict(X_test)\n",
    "\n",
    "print(\"Confusion Matrix:\\n\", confusion_matrix(y_test, y_pred))\n",
    "print(\"\\nClassification Report:\\n\", classification_report(y_test, y_pred))\n"
   ]
  },
  {
   "cell_type": "code",
   "execution_count": 14,
   "id": "5ec564d7-8b29-4a83-8f79-8c65b675a473",
   "metadata": {},
   "outputs": [
    {
     "data": {
      "text/html": [
       "\n",
       "    <style>\n",
       "    table.eli5-weights tr:hover {\n",
       "        filter: brightness(85%);\n",
       "    }\n",
       "</style>\n",
       "\n",
       "\n",
       "\n",
       "    \n",
       "\n",
       "    \n",
       "\n",
       "    \n",
       "\n",
       "    \n",
       "\n",
       "    \n",
       "\n",
       "    \n",
       "\n",
       "\n",
       "    \n",
       "\n",
       "    \n",
       "\n",
       "    \n",
       "\n",
       "    \n",
       "\n",
       "    \n",
       "\n",
       "    \n",
       "\n",
       "\n",
       "    \n",
       "\n",
       "    \n",
       "\n",
       "    \n",
       "\n",
       "    \n",
       "\n",
       "    \n",
       "        <table class=\"eli5-weights eli5-feature-importances\" style=\"border-collapse: collapse; border: none; margin-top: 0em; table-layout: auto;\">\n",
       "    <thead>\n",
       "    <tr style=\"border: none;\">\n",
       "        <th style=\"padding: 0 1em 0 0.5em; text-align: right; border: none;\">Weight</th>\n",
       "        <th style=\"padding: 0 0.5em 0 0.5em; text-align: left; border: none;\">Feature</th>\n",
       "    </tr>\n",
       "    </thead>\n",
       "    <tbody>\n",
       "    \n",
       "        <tr style=\"background-color: hsl(0, 100.00%, 83.90%); border: none;\">\n",
       "            <td style=\"padding: 0 1em 0 0.5em; text-align: right; border: none;\">\n",
       "                -0.0550\n",
       "                \n",
       "                    &plusmn; 0.0663\n",
       "                \n",
       "            </td>\n",
       "            <td style=\"padding: 0 0.5em 0 0.5em; text-align: left; border: none;\">\n",
       "                recharge_freq\n",
       "            </td>\n",
       "        </tr>\n",
       "    \n",
       "        <tr style=\"background-color: hsl(0, 100.00%, 83.90%); border: none;\">\n",
       "            <td style=\"padding: 0 1em 0 0.5em; text-align: right; border: none;\">\n",
       "                -0.0550\n",
       "                \n",
       "                    &plusmn; 0.0663\n",
       "                \n",
       "            </td>\n",
       "            <td style=\"padding: 0 0.5em 0 0.5em; text-align: left; border: none;\">\n",
       "                tenure_months\n",
       "            </td>\n",
       "        </tr>\n",
       "    \n",
       "        <tr style=\"background-color: hsl(0, 100.00%, 83.90%); border: none;\">\n",
       "            <td style=\"padding: 0 1em 0 0.5em; text-align: right; border: none;\">\n",
       "                -0.0550\n",
       "                \n",
       "                    &plusmn; 0.1356\n",
       "                \n",
       "            </td>\n",
       "            <td style=\"padding: 0 0.5em 0 0.5em; text-align: left; border: none;\">\n",
       "                complaints\n",
       "            </td>\n",
       "        </tr>\n",
       "    \n",
       "        <tr style=\"background-color: hsl(0, 100.00%, 80.00%); border: none;\">\n",
       "            <td style=\"padding: 0 1em 0 0.5em; text-align: right; border: none;\">\n",
       "                -0.0750\n",
       "                \n",
       "                    &plusmn; 0.1304\n",
       "                \n",
       "            </td>\n",
       "            <td style=\"padding: 0 0.5em 0 0.5em; text-align: left; border: none;\">\n",
       "                call_duration_avg\n",
       "            </td>\n",
       "        </tr>\n",
       "    \n",
       "    \n",
       "    </tbody>\n",
       "</table>\n",
       "    \n",
       "\n",
       "    \n",
       "\n",
       "\n",
       "    \n",
       "\n",
       "    \n",
       "\n",
       "    \n",
       "\n",
       "    \n",
       "\n",
       "    \n",
       "\n",
       "    \n",
       "\n",
       "\n",
       "\n"
      ],
      "text/plain": [
       "<IPython.core.display.HTML object>"
      ]
     },
     "execution_count": 14,
     "metadata": {},
     "output_type": "execute_result"
    }
   ],
   "source": [
    "perm = PermutationImportance(clf, random_state=42).fit(X_test, y_test)\n",
    "eli5.show_weights(perm, feature_names=X.columns.tolist())\n"
   ]
  },
  {
   "cell_type": "code",
   "execution_count": 16,
   "id": "de7bbd6a-6387-4a51-a204-3950f72b520d",
   "metadata": {},
   "outputs": [
    {
     "name": "stdout",
     "output_type": "stream",
     "text": [
      "segment\n",
      "At Risk    106\n",
      "Other       84\n",
      "Loyal        6\n",
      "Dormant      4\n",
      "Name: count, dtype: int64\n"
     ]
    }
   ],
   "source": [
    "def segment_customer(row):\n",
    "    if row['churn'] == 1:\n",
    "        return 'At Risk'\n",
    "    elif row['tenure_months'] > 18 and row['complaints'] == 0:\n",
    "        return 'Loyal'\n",
    "    elif row['tenure_months'] < 6 and row['call_duration_avg'] < 100:\n",
    "        return 'Dormant'\n",
    "    else:\n",
    "        return 'Other'\n",
    "\n",
    "df['segment'] = df.apply(segment_customer, axis=1)\n",
    "print(df['segment'].value_counts())\n"
   ]
  },
  {
   "cell_type": "code",
   "execution_count": 18,
   "id": "30ee7413-4e3f-4ed3-ad09-ada92343c6c0",
   "metadata": {},
   "outputs": [
    {
     "data": {
      "image/png": "[encoded data removed]",
      "text/plain": [
       "<Figure size 640x480 with 1 Axes>"
      ]
     },
     "metadata": {},
     "output_type": "display_data"
    }
   ],
   "source": [
    "sns.countplot(data=df, x='segment')\n",
    "plt.title(\"Customer Segmentation\")\n",
    "plt.xticks(rotation=45)\n",
    "plt.tight_layout()\n",
    "plt.show()\n"
   ]
  },
  {
   "cell_type": "code",
   "execution_count": 25,
   "id": "9baa0993-ef89-4859-ab22-ec431972fb7c",
   "metadata": {},
   "outputs": [],
   "source": [
    "import sqlite3\n",
    "import pandas as pd\n",
    "\n",
    "df = pd.read_csv('telecom_churn_data_200.csv')\n",
    "\n",
    "conn = sqlite3.connect('telecom_churn.db')\n",
    "cursor = conn.cursor()\n",
    "\n",
    "cursor.execute('''\n",
    "CREATE TABLE IF NOT EXISTS telecom_churn_data (\n",
    "    customer_id INTEGER,\n",
    "    tenure_months INTEGER,\n",
    "    call_duration_avg INTEGER,\n",
    "    complaints INTEGER,\n",
    "    recharge_freq INTEGER,\n",
    "    churn INTEGER\n",
    ")\n",
    "''')\n",
    "\n",
    "df.to_sql('telecom_churn_data', conn, if_exists='replace', index=False)\n",
    "\n",
    "conn.commit()\n"
   ]
  },
  {
   "cell_type": "code",
   "execution_count": null,
   "id": "ceb5b5fd-bb50-481d-98f4-ea731e8f78de",
   "metadata": {},
   "outputs": [],
   "source": [
    "query1 = '''SELECT customer_id, SUM(call_duration_avg) AS total_call_duration, SUM(complaints) AS total_complaints\n",
    "            FROM telecom_churn_data GROUP BY customer_id;'''\n",
    "\n",
    "query2 = '''SELECT churn, AVG(recharge_freq) AS avg_recharge_freq\n",
    "            FROM telecom_churn_data GROUP BY churn;'''\n",
    "\n",
    "query3 = '''SELECT customer_id, complaints, recharge_freq\n",
    "            FROM telecom_churn_data\n",
    "            WHERE complaints > 3 AND recharge_freq < 3;'''\n",
    "\n",
    "for i, query in enumerate([query1, query2, query3], 1):\n",
    "    print(f\"\\nQuery {i} Result:\")\n",
    "    result = pd.read_sql_query(query, conn)\n",
    "    print(result)\n",
    "\n",
    "conn.close()\n"
   ]
  }
 ],
 "metadata": {
  "kernelspec": {
   "display_name": "Python 3 (ipykernel)",
   "language": "python",
   "name": "python3"
  },
  "language_info": {
   "codemirror_mode": {
    "name": "ipython",
    "version": 3
   },
   "file_extension": ".py",
   "mimetype": "text/x-python",
   "name": "python",
   "nbconvert_exporter": "python",
   "pygments_lexer": "ipython3",
   "version": "3.12.7"
  }
 },
 "nbformat": 4,
 "nbformat_minor": 5
}
